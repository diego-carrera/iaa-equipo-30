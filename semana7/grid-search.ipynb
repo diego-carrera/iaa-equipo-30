{
 "cells": [
  {
   "cell_type": "code",
   "execution_count": null,
   "metadata": {},
   "outputs": [],
   "source": [
    "import numpy as np\n",
    "import pandas as pd\n",
    "\n",
    "\n",
    "from sklearn.compose import ColumnTransformer, TransformedTargetRegressor\n",
    "from sklearn.ensemble import RandomForestRegressor\n",
    "from sklearn.impute import SimpleImputer\n",
    "from sklearn.metrics import mean_absolute_percentage_error, mean_squared_error, make_scorer\n",
    "from sklearn.model_selection import GridSearchCV \n",
    "from sklearn.model_selection import train_test_split, RepeatedKFold\n",
    "from sklearn.pipeline import Pipeline\n",
    "from sklearn.preprocessing import StandardScaler, OrdinalEncoder, OneHotEncoder, PowerTransformer, \\\n",
    "  RobustScaler, FunctionTransformer, LabelEncoder\n",
    "\n",
    "from sklearn.linear_model import LinearRegression\n",
    "from sklearn.neural_network import MLPRegressor\n",
    "\n",
    "from sklearn.svm import SVR, NuSVR, LinearSVR\n",
    "from pprint import pformat, pprint"
   ]
  },
  {
   "cell_type": "code",
   "execution_count": null,
   "metadata": {},
   "outputs": [],
   "source": [
    "SEED=13"
   ]
  },
  {
   "cell_type": "code",
   "execution_count": null,
   "metadata": {},
   "outputs": [],
   "source": [
    "def RMSE(y, yhat) -> float:\n",
    "    return np.sqrt(np.mean(np.square(y - yhat)))\n",
    "\n",
    "def MAE(y, yhat) -> float:\n",
    "    return np.mean(np.absolute(yhat - y))\n",
    "\n",
    "def MAPE(y, yhat) -> float:\n",
    "    return np.mean(np.absolute((y - yhat) / y)) * 100"
   ]
  },
  {
   "cell_type": "code",
   "execution_count": null,
   "metadata": {},
   "outputs": [],
   "source": [
    "df = pd.read_csv('./Facebook_metrics/dataset_Facebook.csv', sep=';', engine='python')\n",
    "new_columns = {'Lifetime People who have liked your Page and engaged with your post':'LPE'}\n",
    "df.rename(columns=new_columns, inplace=True)\n",
    "\n",
    "df = df[['Category', 'Page total likes', 'Type', 'Post Month', 'Post Hour', 'Post Weekday', 'Paid', 'LPE']].copy()\n",
    "\n",
    "y = df['LPE']\n",
    "X = df.loc[:, df.columns != 'LPE']\n",
    "X_train, X_test, y_train, y_test = train_test_split(X, y, test_size=100, random_state=SEED)\n",
    "\n",
    "print( \"X Entrenamiento y validación\",  X_train.shape)\n",
    "print( \"X Pruebas\", X_test.shape)\n",
    "\n",
    "print( \"Y Entrenamiento y validación\", y_train.shape)\n",
    "print( \"Y Pruebas\", y_test.shape)\n"
   ]
  },
  {
   "cell_type": "code",
   "execution_count": null,
   "metadata": {},
   "outputs": [],
   "source": [
    "numeric_transformer = Pipeline(steps=[\n",
    "    ('imputer', SimpleImputer(strategy='mean')),\n",
    "    ('scaler', StandardScaler()),\n",
    "])\n",
    "numeric_features = ['Page total likes']\n",
    "\n",
    "\n",
    "categorical_transformer = Pipeline(steps=[\n",
    "    ('imputer', SimpleImputer(strategy='most_frequent')),\n",
    "])\n",
    "categorical_features = ['Category', 'Paid', 'Post Month', 'Post Hour', 'Post Weekday']\n",
    "\n",
    "onehot_transformer = Pipeline(steps=[\n",
    "    ('imputer', SimpleImputer(strategy='most_frequent')),\n",
    "    ('encoder', OneHotEncoder(drop='first'))\n",
    "])\n",
    "onehot_features = ['Type']\n",
    "\n",
    "\n",
    "ColumnPreprocessor = ColumnTransformer(transformers=[\n",
    "    ('categorical', categorical_transformer, categorical_features),\n",
    "    ('onehot',      onehot_transformer,      onehot_features),\n",
    "    ('numeric',     numeric_transformer,     numeric_features),\n",
    "])\n",
    "\n",
    "\n",
    "# mi_regressor = RandomForestRegressor()\n",
    "\n"
   ]
  },
  {
   "cell_type": "code",
   "execution_count": null,
   "metadata": {},
   "outputs": [],
   "source": [
    "repeated_kfold = RepeatedKFold(n_splits=5, n_repeats=3, random_state=SEED)"
   ]
  },
  {
   "cell_type": "code",
   "execution_count": 46,
   "metadata": {},
   "outputs": [
    {
     "name": "stdout",
     "output_type": "stream",
     "text": [
      "[(4, 4), (8, 8), (12, 12), (16, 16), (20, 20), (100,), (100, 100)]\n"
     ]
    }
   ],
   "source": [
    "hidden = [(i, i) for i in range(4, 22, 4)] + [(100,), (100,100)]\n",
    "\n",
    "print(hidden)"
   ]
  },
  {
   "cell_type": "code",
   "execution_count": 49,
   "metadata": {},
   "outputs": [
    {
     "name": "stdout",
     "output_type": "stream",
     "text": [
      "Best parameter (CV score=104.755):\n",
      "{'transformed_regressor__regressor__alpha': 0.001,\n",
      " 'transformed_regressor__regressor__hidden_layer_sizes': (100, 100),\n",
      " 'transformed_regressor__regressor__learning_rate_init': 0.001,\n",
      " 'transformed_regressor__regressor__max_iter': 5000}\n"
     ]
    }
   ],
   "source": [
    "mi_regressor = TransformedTargetRegressor(\n",
    "    regressor=MLPRegressor(), \n",
    "    func=np.log1p,\n",
    "    inverse_func=np.expm1\n",
    ")\n",
    "\n",
    "fullPipeline = Pipeline(steps=[\n",
    "    ('preprocessor', ColumnPreprocessor),\n",
    "    ('transformed_regressor', mi_regressor)\n",
    "])\n",
    "\n",
    "hidden_layers =[(i, i) for i in range(5, 20, 3)] + [(100,), (100,100)]\n",
    "param_grid = {    \n",
    "    'transformed_regressor__regressor__max_iter': [5000],\n",
    "    'transformed_regressor__regressor__hidden_layer_sizes': hidden_layers,\n",
    "    'transformed_regressor__regressor__alpha': [0.0001, 0.001],\n",
    "    'transformed_regressor__regressor__learning_rate_init': [0.001, 0.01, 0.1],    \n",
    "}\n",
    "\n",
    "search = GridSearchCV(\n",
    "    fullPipeline, \n",
    "    param_grid, \n",
    "    cv=repeated_kfold,\n",
    "    scoring=make_scorer(MAPE, greater_is_better=True),\n",
    "    n_jobs=-1,\n",
    ")\n",
    "\n",
    "search.fit(X_train, y_train)\n",
    "\n",
    "print(\"Best parameter (CV score=%0.3f):\" % search.best_score_)\n",
    "pprint(search.best_params_)"
   ]
  },
  {
   "cell_type": "code",
   "execution_count": null,
   "metadata": {},
   "outputs": [],
   "source": [
    "mi_regressor = TransformedTargetRegressor(\n",
    "    regressor=RandomForestRegressor(), \n",
    "    func=np.log1p,\n",
    "    inverse_func=np.expm1\n",
    ")\n",
    "\n",
    "# mi_regressor = RandomForestRegressor()\n",
    "\n",
    "fullPipeline = Pipeline(steps=[\n",
    "    ('preprocessor', ColumnPreprocessor),\n",
    "    ('transformed_regressor', mi_regressor)\n",
    "])\n",
    "\n",
    "\n",
    "param_grid = {    \n",
    "    'transformed_regressor__regressor__n_estimators': [50, 100, 200],\n",
    "    'transformed_regressor__regressor__max_features': ['sqrt', 'log2'],\n",
    "    'transformed_regressor__regressor__max_depth': [4, 5, 5, 6, 7, 8],\n",
    "    'transformed_regressor__regressor__criterion': ['squared_error', 'absolute_error'],\n",
    "}\n",
    "\n",
    "search = GridSearchCV(\n",
    "    fullPipeline, \n",
    "    param_grid, \n",
    "    cv=repeated_kfold,\n",
    "    scoring=make_scorer(MAPE, greater_is_better=True),\n",
    "    n_jobs=-1,\n",
    ")\n",
    "\n",
    "search.fit(X_train, y_train)\n",
    "\n",
    "print(\"Best parameter (CV score=%0.3f):\" % search.best_score_)\n",
    "pprint(search.best_params_)"
   ]
  },
  {
   "cell_type": "code",
   "execution_count": 50,
   "metadata": {},
   "outputs": [
    {
     "name": "stdout",
     "output_type": "stream",
     "text": [
      "Best parameter (CV score=85.814):\n",
      "{'preprocessor__categorical__imputer__strategy': 'most_frequent',\n",
      " 'preprocessor__numeric__imputer__strategy': 'mean'}\n"
     ]
    }
   ],
   "source": [
    "\n",
    "\n",
    "mi_regressor = TransformedTargetRegressor(\n",
    "    regressor=LinearRegression(),\n",
    "    func=np.log1p,\n",
    "    inverse_func=np.expm1\n",
    ")\n",
    "\n",
    "fullPipeline = Pipeline(steps=[\n",
    "    ('preprocessor', ColumnPreprocessor),\n",
    "    ('transformed_regressor', mi_regressor)\n",
    "])\n",
    "\n",
    "param_grid = {\n",
    "    \"preprocessor__numeric__imputer__strategy\": ['mean', 'median'],\n",
    "    # \"preprocessor__numeric__scaler\": [RobustScaler(), PowerTransformer(), None],\n",
    "    \"preprocessor__categorical__imputer__strategy\": ['most_frequent', 'constant'],\n",
    "    # \"transformed_regressor__transformer\": [None, PowerTransformer(), RobustScaler()],\n",
    "}\n",
    "\n",
    "search = GridSearchCV(\n",
    "    fullPipeline, \n",
    "    param_grid, \n",
    "    cv=repeated_kfold,\n",
    "    scoring=make_scorer(MAPE, greater_is_better=True),\n",
    "    n_jobs=-1,\n",
    ")\n",
    "\n",
    "search.fit(X_train, y_train)\n",
    "\n",
    "print(\"Best parameter (CV score=%0.3f):\" % search.best_score_)\n",
    "pprint(search.best_params_)"
   ]
  },
  {
   "cell_type": "code",
   "execution_count": 61,
   "metadata": {},
   "outputs": [
    {
     "name": "stdout",
     "output_type": "stream",
     "text": [
      "Best parameter (CV score=92.876):\n",
      "{'transformed_regressor__regressor__C': 0.0001,\n",
      " 'transformed_regressor__regressor__degree': 3,\n",
      " 'transformed_regressor__regressor__gamma': 'scale',\n",
      " 'transformed_regressor__regressor__kernel': 'rbf'}\n"
     ]
    }
   ],
   "source": [
    "\n",
    "\n",
    "mi_regressor = TransformedTargetRegressor(\n",
    "    regressor=SVR(),\n",
    "    func=np.log1p,\n",
    "    inverse_func=np.expm1\n",
    ")\n",
    "\n",
    "fullPipeline = Pipeline(steps=[\n",
    "    ('preprocessor', ColumnPreprocessor),\n",
    "    ('transformed_regressor', mi_regressor)\n",
    "])\n",
    "\n",
    "param_grid = {\n",
    "    \"transformed_regressor__regressor__kernel\": ['rbf', 'linear', 'poly'],\n",
    "    \"transformed_regressor__regressor__C\": [0.0001, 0.001, 0.01],\n",
    "    \"transformed_regressor__regressor__gamma\": ['scale', 'auto'],\n",
    "    \"transformed_regressor__regressor__degree\": [3, 4],\n",
    "}\n",
    "\n",
    "search = GridSearchCV(\n",
    "    fullPipeline, \n",
    "    param_grid, \n",
    "    cv=repeated_kfold,\n",
    "    scoring=make_scorer(MAPE, greater_is_better=True),\n",
    "    n_jobs=-1,\n",
    ")\n",
    "\n",
    "search.fit(X_train, y_train)\n",
    "\n",
    "print(\"Best parameter (CV score=%0.3f):\" % search.best_score_)\n",
    "pprint(search.best_params_)"
   ]
  }
 ],
 "metadata": {
  "kernelspec": {
   "display_name": "Python 3.9.12 ('venv': venv)",
   "language": "python",
   "name": "python3"
  },
  "language_info": {
   "codemirror_mode": {
    "name": "ipython",
    "version": 3
   },
   "file_extension": ".py",
   "mimetype": "text/x-python",
   "name": "python",
   "nbconvert_exporter": "python",
   "pygments_lexer": "ipython3",
   "version": "3.9.12"
  },
  "orig_nbformat": 4,
  "vscode": {
   "interpreter": {
    "hash": "ec4ce40ca79572a60b681cbbcf0e5d4e3e33b93a9954288293cf2a461c2e7ab1"
   }
  }
 },
 "nbformat": 4,
 "nbformat_minor": 2
}
