{
 "cells": [
  {
   "cell_type": "code",
   "execution_count": null,
   "metadata": {},
   "outputs": [],
   "source": [
    "import numpy as np\n",
    "import pandas as pd\n",
    "\n",
    "\n",
    "from sklearn.compose import ColumnTransformer, TransformedTargetRegressor\n",
    "from sklearn.ensemble import RandomForestRegressor\n",
    "from sklearn.impute import SimpleImputer\n",
    "from sklearn.metrics import mean_absolute_percentage_error, mean_squared_error, make_scorer\n",
    "from sklearn.model_selection import GridSearchCV \n",
    "from sklearn.model_selection import train_test_split, RepeatedKFold\n",
    "from sklearn.pipeline import Pipeline\n",
    "from sklearn.preprocessing import StandardScaler, OrdinalEncoder, OneHotEncoder, PowerTransformer, \\\n",
    "  RobustScaler, FunctionTransformer, LabelEncoder\n",
    "\n",
    "from sklearn.linear_model import LinearRegression\n",
    "from sklearn.neural_network import MLPRegressor\n",
    "\n",
    "from sklearn.svm import SVR, NuSVR, LinearSVR\n",
    "from pprint import pformat, pprint"
   ]
  },
  {
   "cell_type": "code",
   "execution_count": null,
   "metadata": {},
   "outputs": [],
   "source": [
    "SEED=13"
   ]
  },
  {
   "cell_type": "code",
   "execution_count": null,
   "metadata": {},
   "outputs": [],
   "source": [
    "def RMSE(y, yhat) -> float:\n",
    "    return np.sqrt(np.mean(np.square(y - yhat)))\n",
    "\n",
    "def MAE(y, yhat) -> float:\n",
    "    return np.mean(np.absolute(yhat - y))\n",
    "\n",
    "def MAPE(y, yhat) -> float:\n",
    "    return np.mean(np.absolute((y - yhat) / y)) * 100"
   ]
  },
  {
   "cell_type": "code",
   "execution_count": null,
   "metadata": {},
   "outputs": [],
   "source": [
    "df = pd.read_csv('./Facebook_metrics/dataset_Facebook.csv', sep=';', engine='python')\n",
    "new_columns = {'Lifetime People who have liked your Page and engaged with your post':'LPE'}\n",
    "df.rename(columns=new_columns, inplace=True)\n",
    "\n",
    "df = df[['Category', 'Page total likes', 'Type', 'Post Month', 'Post Hour', 'Post Weekday', 'Paid', 'LPE']].copy()\n",
    "\n",
    "y = df['LPE']\n",
    "X = df.loc[:, df.columns != 'LPE']\n",
    "X_train, X_test, y_train, y_test = train_test_split(X, y, test_size=100, random_state=SEED)\n",
    "\n",
    "print( \"X Entrenamiento y validación\",  X_train.shape)\n",
    "print( \"X Pruebas\", X_test.shape)\n",
    "\n",
    "print( \"Y Entrenamiento y validación\", y_train.shape)\n",
    "print( \"Y Pruebas\", y_test.shape)\n"
   ]
  },
  {
   "cell_type": "code",
   "execution_count": null,
   "metadata": {},
   "outputs": [],
   "source": [
    "numeric_transformer = Pipeline(steps=[\n",
    "    ('imputer', SimpleImputer(strategy='mean')),\n",
    "    ('scaler', StandardScaler()),\n",
    "])\n",
    "numeric_features = ['Page total likes']\n",
    "\n",
    "\n",
    "categorical_transformer = Pipeline(steps=[\n",
    "    ('imputer', SimpleImputer(strategy='most_frequent')),\n",
    "])\n",
    "categorical_features = ['Category', 'Paid', 'Post Month', 'Post Hour', 'Post Weekday']\n",
    "\n",
    "onehot_transformer = Pipeline(steps=[\n",
    "    ('imputer', SimpleImputer(strategy='most_frequent')),\n",
    "    ('encoder', OneHotEncoder(drop='first'))\n",
    "])\n",
    "onehot_features = ['Type']\n",
    "\n",
    "\n",
    "ColumnPreprocessor = ColumnTransformer(transformers=[\n",
    "    ('categorical', categorical_transformer, categorical_features),\n",
    "    ('onehot',      onehot_transformer,      onehot_features),\n",
    "    ('numeric',     numeric_transformer,     numeric_features),\n",
    "])\n",
    "\n",
    "\n",
    "# mi_regressor = RandomForestRegressor()\n",
    "\n"
   ]
  },
  {
   "cell_type": "code",
   "execution_count": null,
   "metadata": {},
   "outputs": [],
   "source": [
    "repeated_kfold = RepeatedKFold(n_splits=5, n_repeats=3, random_state=SEED)"
   ]
  },
  {
   "cell_type": "code",
   "execution_count": 46,
   "metadata": {},
   "outputs": [
    {
     "name": "stdout",
     "output_type": "stream",
     "text": [
      "[(4, 4), (8, 8), (12, 12), (16, 16), (20, 20), (100,), (100, 100)]\n"
     ]
    }
   ],
   "source": [
    "hidden = [(i, i) for i in range(4, 22, 4)] + [(100,), (100,100)]\n",
    "\n",
    "print(hidden)"
   ]
  },
  {
   "cell_type": "code",
   "execution_count": 49,
   "metadata": {},
   "outputs": [
    {
     "name": "stdout",
     "output_type": "stream",
     "text": [
      "Best parameter (CV score=104.755):\n",
      "{'transformed_regressor__regressor__alpha': 0.001,\n",
      " 'transformed_regressor__regressor__hidden_layer_sizes': (100, 100),\n",
      " 'transformed_regressor__regressor__learning_rate_init': 0.001,\n",
      " 'transformed_regressor__regressor__max_iter': 5000}\n"
     ]
    }
   ],
   "source": [
    "mi_regressor = TransformedTargetRegressor(\n",
    "    regressor=MLPRegressor(), \n",
    "    func=np.log1p,\n",
    "    inverse_func=np.expm1\n",
    ")\n",
    "\n",
    "fullPipeline = Pipeline(steps=[\n",
    "    ('preprocessor', ColumnPreprocessor),\n",
    "    ('transformed_regressor', mi_regressor)\n",
    "])\n",
    "\n",
    "hidden_layers =[(i, i) for i in range(5, 20, 3)] + [(100,), (100,100)]\n",
    "param_grid = {    \n",
    "    'transformed_regressor__regressor__max_iter': [5000],\n",
    "    'transformed_regressor__regressor__hidden_layer_sizes': hidden_layers,\n",
    "    'transformed_regressor__regressor__alpha': [0.0001, 0.001],\n",
    "    'transformed_regressor__regressor__learning_rate_init': [0.001, 0.01, 0.1],    \n",
    "}\n",
    "\n",
    "search = GridSearchCV(\n",
    "    fullPipeline, \n",
    "    param_grid, \n",
    "    cv=repeated_kfold,\n",
    "    scoring=make_scorer(MAPE, greater_is_better=True),\n",
    "    n_jobs=-1,\n",
    ")\n",
    "\n",
    "search.fit(X_train, y_train)\n",
    "\n",
    "print(\"Best parameter (CV score=%0.3f):\" % search.best_score_)\n",
    "pprint(search.best_params_)"
   ]
  },
  {
   "cell_type": "code",
   "execution_count": null,
   "metadata": {},
   "outputs": [],
   "source": [
    "mi_regressor = TransformedTargetRegressor(\n",
    "    regressor=RandomForestRegressor(), \n",
    "    func=np.log1p,\n",
    "    inverse_func=np.expm1\n",
    ")\n",
    "\n",
    "# mi_regressor = RandomForestRegressor()\n",
    "\n",
    "fullPipeline = Pipeline(steps=[\n",
    "    ('preprocessor', ColumnPreprocessor),\n",
    "    ('transformed_regressor', mi_regressor)\n",
    "])\n",
    "\n",
    "\n",
    "param_grid = {    \n",
    "    'transformed_regressor__regressor__n_estimators': [50, 100, 200],\n",
    "    'transformed_regressor__regressor__max_features': ['sqrt', 'log2'],\n",
    "    'transformed_regressor__regressor__max_depth': [4, 5, 5, 6, 7, 8],\n",
    "    'transformed_regressor__regressor__criterion': ['squared_error', 'absolute_error'],\n",
    "}\n",
    "\n",
    "search = GridSearchCV(\n",
    "    fullPipeline, \n",
    "    param_grid, \n",
    "    cv=repeated_kfold,\n",
    "    scoring=make_scorer(MAPE, greater_is_better=True),\n",
    "    n_jobs=-1,\n",
    ")\n",
    "\n",
    "search.fit(X_train, y_train)\n",
    "\n",
    "print(\"Best parameter (CV score=%0.3f):\" % search.best_score_)\n",
    "pprint(search.best_params_)"
   ]
  },
  {
   "cell_type": "code",
   "execution_count": 50,
   "metadata": {},
   "outputs": [
    {
     "name": "stdout",
     "output_type": "stream",
     "text": [
      "Best parameter (CV score=85.814):\n",
      "{'preprocessor__categorical__imputer__strategy': 'most_frequent',\n",
      " 'preprocessor__numeric__imputer__strategy': 'mean'}\n"
     ]
    }
   ],
   "source": [
    "\n",
    "\n",
    "mi_regressor = TransformedTargetRegressor(\n",
    "    regressor=LinearRegression(),\n",
    "    func=np.log1p,\n",
    "    inverse_func=np.expm1\n",
    ")\n",
    "\n",
    "fullPipeline = Pipeline(steps=[\n",
    "    ('preprocessor', ColumnPreprocessor),\n",
    "    ('transformed_regressor', mi_regressor)\n",
    "])\n",
    "\n",
    "param_grid = {\n",
    "    \"preprocessor__numeric__imputer__strategy\": ['mean', 'median'],\n",
    "    # \"preprocessor__numeric__scaler\": [RobustScaler(), PowerTransformer(), None],\n",
    "    \"preprocessor__categorical__imputer__strategy\": ['most_frequent', 'constant'],\n",
    "    # \"transformed_regressor__transformer\": [None, PowerTransformer(), RobustScaler()],\n",
    "}\n",
    "\n",
    "search = GridSearchCV(\n",
    "    fullPipeline, \n",
    "    param_grid, \n",
    "    cv=repeated_kfold,\n",
    "    scoring=make_scorer(MAPE, greater_is_better=True),\n",
    "    n_jobs=-1,\n",
    ")\n",
    "\n",
    "search.fit(X_train, y_train)\n",
    "\n",
    "print(\"Best parameter (CV score=%0.3f):\" % search.best_score_)\n",
    "pprint(search.best_params_)"
   ]
  },
  {
   "cell_type": "code",
   "execution_count": 60,
   "metadata": {},
   "outputs": [
    {
     "ename": "KeyboardInterrupt",
     "evalue": "",
     "output_type": "error",
     "traceback": [
      "\u001b[0;31m---------------------------------------------------------------------------\u001b[0m",
      "\u001b[0;31mKeyboardInterrupt\u001b[0m                         Traceback (most recent call last)",
      "Cell \u001b[0;32mIn [60], line 27\u001b[0m\n\u001b[1;32m     12\u001b[0m param_grid \u001b[39m=\u001b[39m {\n\u001b[1;32m     13\u001b[0m     \u001b[39m\"\u001b[39m\u001b[39mtransformed_regressor__regressor__kernel\u001b[39m\u001b[39m\"\u001b[39m: [\u001b[39m'\u001b[39m\u001b[39mrbf\u001b[39m\u001b[39m'\u001b[39m, \u001b[39m'\u001b[39m\u001b[39mlinear\u001b[39m\u001b[39m'\u001b[39m, \u001b[39m'\u001b[39m\u001b[39mpoly\u001b[39m\u001b[39m'\u001b[39m],\n\u001b[1;32m     14\u001b[0m     \u001b[39m\"\u001b[39m\u001b[39mtransformed_regressor__regressor__C\u001b[39m\u001b[39m\"\u001b[39m: [\u001b[39m0.0001\u001b[39m, \u001b[39m0.001\u001b[39m, \u001b[39m0.01\u001b[39m],\n\u001b[1;32m     15\u001b[0m     \u001b[39m\"\u001b[39m\u001b[39mtransformed_regressor__regressor__gamma\u001b[39m\u001b[39m\"\u001b[39m: [\u001b[39m'\u001b[39m\u001b[39mscale\u001b[39m\u001b[39m'\u001b[39m, \u001b[39m'\u001b[39m\u001b[39mauto\u001b[39m\u001b[39m'\u001b[39m],\n\u001b[1;32m     16\u001b[0m     \u001b[39m\"\u001b[39m\u001b[39mtransformed_regressor__regressor__degree\u001b[39m\u001b[39m\"\u001b[39m: [\u001b[39m3\u001b[39m, \u001b[39m4\u001b[39m, \u001b[39m5\u001b[39m],\n\u001b[1;32m     17\u001b[0m }\n\u001b[1;32m     19\u001b[0m search \u001b[39m=\u001b[39m GridSearchCV(\n\u001b[1;32m     20\u001b[0m     fullPipeline, \n\u001b[1;32m     21\u001b[0m     param_grid, \n\u001b[0;32m   (...)\u001b[0m\n\u001b[1;32m     24\u001b[0m     n_jobs\u001b[39m=\u001b[39m\u001b[39m-\u001b[39m\u001b[39m1\u001b[39m,\n\u001b[1;32m     25\u001b[0m )\n\u001b[0;32m---> 27\u001b[0m search\u001b[39m.\u001b[39;49mfit(X_train, y_train)\n\u001b[1;32m     29\u001b[0m \u001b[39mprint\u001b[39m(\u001b[39m\"\u001b[39m\u001b[39mBest parameter (CV score=\u001b[39m\u001b[39m%0.3f\u001b[39;00m\u001b[39m):\u001b[39m\u001b[39m\"\u001b[39m \u001b[39m%\u001b[39m search\u001b[39m.\u001b[39mbest_score_)\n\u001b[1;32m     30\u001b[0m pprint(search\u001b[39m.\u001b[39mbest_params_)\n",
      "File \u001b[0;32m~/Documents/Maestria/Inteligencia artificial y aprendizaje automático/iaa-equipo-30/venv/lib/python3.9/site-packages/sklearn/model_selection/_search.py:875\u001b[0m, in \u001b[0;36mBaseSearchCV.fit\u001b[0;34m(self, X, y, groups, **fit_params)\u001b[0m\n\u001b[1;32m    869\u001b[0m     results \u001b[39m=\u001b[39m \u001b[39mself\u001b[39m\u001b[39m.\u001b[39m_format_results(\n\u001b[1;32m    870\u001b[0m         all_candidate_params, n_splits, all_out, all_more_results\n\u001b[1;32m    871\u001b[0m     )\n\u001b[1;32m    873\u001b[0m     \u001b[39mreturn\u001b[39;00m results\n\u001b[0;32m--> 875\u001b[0m \u001b[39mself\u001b[39;49m\u001b[39m.\u001b[39;49m_run_search(evaluate_candidates)\n\u001b[1;32m    877\u001b[0m \u001b[39m# multimetric is determined here because in the case of a callable\u001b[39;00m\n\u001b[1;32m    878\u001b[0m \u001b[39m# self.scoring the return type is only known after calling\u001b[39;00m\n\u001b[1;32m    879\u001b[0m first_test_score \u001b[39m=\u001b[39m all_out[\u001b[39m0\u001b[39m][\u001b[39m\"\u001b[39m\u001b[39mtest_scores\u001b[39m\u001b[39m\"\u001b[39m]\n",
      "File \u001b[0;32m~/Documents/Maestria/Inteligencia artificial y aprendizaje automático/iaa-equipo-30/venv/lib/python3.9/site-packages/sklearn/model_selection/_search.py:1379\u001b[0m, in \u001b[0;36mGridSearchCV._run_search\u001b[0;34m(self, evaluate_candidates)\u001b[0m\n\u001b[1;32m   1377\u001b[0m \u001b[39mdef\u001b[39;00m \u001b[39m_run_search\u001b[39m(\u001b[39mself\u001b[39m, evaluate_candidates):\n\u001b[1;32m   1378\u001b[0m     \u001b[39m\"\"\"Search all candidates in param_grid\"\"\"\u001b[39;00m\n\u001b[0;32m-> 1379\u001b[0m     evaluate_candidates(ParameterGrid(\u001b[39mself\u001b[39;49m\u001b[39m.\u001b[39;49mparam_grid))\n",
      "File \u001b[0;32m~/Documents/Maestria/Inteligencia artificial y aprendizaje automático/iaa-equipo-30/venv/lib/python3.9/site-packages/sklearn/model_selection/_search.py:822\u001b[0m, in \u001b[0;36mBaseSearchCV.fit.<locals>.evaluate_candidates\u001b[0;34m(candidate_params, cv, more_results)\u001b[0m\n\u001b[1;32m    814\u001b[0m \u001b[39mif\u001b[39;00m \u001b[39mself\u001b[39m\u001b[39m.\u001b[39mverbose \u001b[39m>\u001b[39m \u001b[39m0\u001b[39m:\n\u001b[1;32m    815\u001b[0m     \u001b[39mprint\u001b[39m(\n\u001b[1;32m    816\u001b[0m         \u001b[39m\"\u001b[39m\u001b[39mFitting \u001b[39m\u001b[39m{0}\u001b[39;00m\u001b[39m folds for each of \u001b[39m\u001b[39m{1}\u001b[39;00m\u001b[39m candidates,\u001b[39m\u001b[39m\"\u001b[39m\n\u001b[1;32m    817\u001b[0m         \u001b[39m\"\u001b[39m\u001b[39m totalling \u001b[39m\u001b[39m{2}\u001b[39;00m\u001b[39m fits\u001b[39m\u001b[39m\"\u001b[39m\u001b[39m.\u001b[39mformat(\n\u001b[1;32m    818\u001b[0m             n_splits, n_candidates, n_candidates \u001b[39m*\u001b[39m n_splits\n\u001b[1;32m    819\u001b[0m         )\n\u001b[1;32m    820\u001b[0m     )\n\u001b[0;32m--> 822\u001b[0m out \u001b[39m=\u001b[39m parallel(\n\u001b[1;32m    823\u001b[0m     delayed(_fit_and_score)(\n\u001b[1;32m    824\u001b[0m         clone(base_estimator),\n\u001b[1;32m    825\u001b[0m         X,\n\u001b[1;32m    826\u001b[0m         y,\n\u001b[1;32m    827\u001b[0m         train\u001b[39m=\u001b[39;49mtrain,\n\u001b[1;32m    828\u001b[0m         test\u001b[39m=\u001b[39;49mtest,\n\u001b[1;32m    829\u001b[0m         parameters\u001b[39m=\u001b[39;49mparameters,\n\u001b[1;32m    830\u001b[0m         split_progress\u001b[39m=\u001b[39;49m(split_idx, n_splits),\n\u001b[1;32m    831\u001b[0m         candidate_progress\u001b[39m=\u001b[39;49m(cand_idx, n_candidates),\n\u001b[1;32m    832\u001b[0m         \u001b[39m*\u001b[39;49m\u001b[39m*\u001b[39;49mfit_and_score_kwargs,\n\u001b[1;32m    833\u001b[0m     )\n\u001b[1;32m    834\u001b[0m     \u001b[39mfor\u001b[39;49;00m (cand_idx, parameters), (split_idx, (train, test)) \u001b[39min\u001b[39;49;00m product(\n\u001b[1;32m    835\u001b[0m         \u001b[39menumerate\u001b[39;49m(candidate_params), \u001b[39menumerate\u001b[39;49m(cv\u001b[39m.\u001b[39;49msplit(X, y, groups))\n\u001b[1;32m    836\u001b[0m     )\n\u001b[1;32m    837\u001b[0m )\n\u001b[1;32m    839\u001b[0m \u001b[39mif\u001b[39;00m \u001b[39mlen\u001b[39m(out) \u001b[39m<\u001b[39m \u001b[39m1\u001b[39m:\n\u001b[1;32m    840\u001b[0m     \u001b[39mraise\u001b[39;00m \u001b[39mValueError\u001b[39;00m(\n\u001b[1;32m    841\u001b[0m         \u001b[39m\"\u001b[39m\u001b[39mNo fits were performed. \u001b[39m\u001b[39m\"\u001b[39m\n\u001b[1;32m    842\u001b[0m         \u001b[39m\"\u001b[39m\u001b[39mWas the CV iterator empty? \u001b[39m\u001b[39m\"\u001b[39m\n\u001b[1;32m    843\u001b[0m         \u001b[39m\"\u001b[39m\u001b[39mWere there no candidates?\u001b[39m\u001b[39m\"\u001b[39m\n\u001b[1;32m    844\u001b[0m     )\n",
      "File \u001b[0;32m~/Documents/Maestria/Inteligencia artificial y aprendizaje automático/iaa-equipo-30/venv/lib/python3.9/site-packages/joblib/parallel.py:1098\u001b[0m, in \u001b[0;36mParallel.__call__\u001b[0;34m(self, iterable)\u001b[0m\n\u001b[1;32m   1095\u001b[0m     \u001b[39mself\u001b[39m\u001b[39m.\u001b[39m_iterating \u001b[39m=\u001b[39m \u001b[39mFalse\u001b[39;00m\n\u001b[1;32m   1097\u001b[0m \u001b[39mwith\u001b[39;00m \u001b[39mself\u001b[39m\u001b[39m.\u001b[39m_backend\u001b[39m.\u001b[39mretrieval_context():\n\u001b[0;32m-> 1098\u001b[0m     \u001b[39mself\u001b[39;49m\u001b[39m.\u001b[39;49mretrieve()\n\u001b[1;32m   1099\u001b[0m \u001b[39m# Make sure that we get a last message telling us we are done\u001b[39;00m\n\u001b[1;32m   1100\u001b[0m elapsed_time \u001b[39m=\u001b[39m time\u001b[39m.\u001b[39mtime() \u001b[39m-\u001b[39m \u001b[39mself\u001b[39m\u001b[39m.\u001b[39m_start_time\n",
      "File \u001b[0;32m~/Documents/Maestria/Inteligencia artificial y aprendizaje automático/iaa-equipo-30/venv/lib/python3.9/site-packages/joblib/parallel.py:975\u001b[0m, in \u001b[0;36mParallel.retrieve\u001b[0;34m(self)\u001b[0m\n\u001b[1;32m    973\u001b[0m \u001b[39mtry\u001b[39;00m:\n\u001b[1;32m    974\u001b[0m     \u001b[39mif\u001b[39;00m \u001b[39mgetattr\u001b[39m(\u001b[39mself\u001b[39m\u001b[39m.\u001b[39m_backend, \u001b[39m'\u001b[39m\u001b[39msupports_timeout\u001b[39m\u001b[39m'\u001b[39m, \u001b[39mFalse\u001b[39;00m):\n\u001b[0;32m--> 975\u001b[0m         \u001b[39mself\u001b[39m\u001b[39m.\u001b[39m_output\u001b[39m.\u001b[39mextend(job\u001b[39m.\u001b[39;49mget(timeout\u001b[39m=\u001b[39;49m\u001b[39mself\u001b[39;49m\u001b[39m.\u001b[39;49mtimeout))\n\u001b[1;32m    976\u001b[0m     \u001b[39melse\u001b[39;00m:\n\u001b[1;32m    977\u001b[0m         \u001b[39mself\u001b[39m\u001b[39m.\u001b[39m_output\u001b[39m.\u001b[39mextend(job\u001b[39m.\u001b[39mget())\n",
      "File \u001b[0;32m~/Documents/Maestria/Inteligencia artificial y aprendizaje automático/iaa-equipo-30/venv/lib/python3.9/site-packages/joblib/_parallel_backends.py:567\u001b[0m, in \u001b[0;36mLokyBackend.wrap_future_result\u001b[0;34m(future, timeout)\u001b[0m\n\u001b[1;32m    564\u001b[0m \u001b[39m\"\"\"Wrapper for Future.result to implement the same behaviour as\u001b[39;00m\n\u001b[1;32m    565\u001b[0m \u001b[39mAsyncResults.get from multiprocessing.\"\"\"\u001b[39;00m\n\u001b[1;32m    566\u001b[0m \u001b[39mtry\u001b[39;00m:\n\u001b[0;32m--> 567\u001b[0m     \u001b[39mreturn\u001b[39;00m future\u001b[39m.\u001b[39;49mresult(timeout\u001b[39m=\u001b[39;49mtimeout)\n\u001b[1;32m    568\u001b[0m \u001b[39mexcept\u001b[39;00m CfTimeoutError \u001b[39mas\u001b[39;00m e:\n\u001b[1;32m    569\u001b[0m     \u001b[39mraise\u001b[39;00m \u001b[39mTimeoutError\u001b[39;00m \u001b[39mfrom\u001b[39;00m \u001b[39me\u001b[39;00m\n",
      "File \u001b[0;32m/usr/local/Cellar/python@3.9/3.9.12/Frameworks/Python.framework/Versions/3.9/lib/python3.9/concurrent/futures/_base.py:441\u001b[0m, in \u001b[0;36mFuture.result\u001b[0;34m(self, timeout)\u001b[0m\n\u001b[1;32m    438\u001b[0m \u001b[39melif\u001b[39;00m \u001b[39mself\u001b[39m\u001b[39m.\u001b[39m_state \u001b[39m==\u001b[39m FINISHED:\n\u001b[1;32m    439\u001b[0m     \u001b[39mreturn\u001b[39;00m \u001b[39mself\u001b[39m\u001b[39m.\u001b[39m__get_result()\n\u001b[0;32m--> 441\u001b[0m \u001b[39mself\u001b[39;49m\u001b[39m.\u001b[39;49m_condition\u001b[39m.\u001b[39;49mwait(timeout)\n\u001b[1;32m    443\u001b[0m \u001b[39mif\u001b[39;00m \u001b[39mself\u001b[39m\u001b[39m.\u001b[39m_state \u001b[39min\u001b[39;00m [CANCELLED, CANCELLED_AND_NOTIFIED]:\n\u001b[1;32m    444\u001b[0m     \u001b[39mraise\u001b[39;00m CancelledError()\n",
      "File \u001b[0;32m/usr/local/Cellar/python@3.9/3.9.12/Frameworks/Python.framework/Versions/3.9/lib/python3.9/threading.py:312\u001b[0m, in \u001b[0;36mCondition.wait\u001b[0;34m(self, timeout)\u001b[0m\n\u001b[1;32m    310\u001b[0m \u001b[39mtry\u001b[39;00m:    \u001b[39m# restore state no matter what (e.g., KeyboardInterrupt)\u001b[39;00m\n\u001b[1;32m    311\u001b[0m     \u001b[39mif\u001b[39;00m timeout \u001b[39mis\u001b[39;00m \u001b[39mNone\u001b[39;00m:\n\u001b[0;32m--> 312\u001b[0m         waiter\u001b[39m.\u001b[39;49macquire()\n\u001b[1;32m    313\u001b[0m         gotit \u001b[39m=\u001b[39m \u001b[39mTrue\u001b[39;00m\n\u001b[1;32m    314\u001b[0m     \u001b[39melse\u001b[39;00m:\n",
      "\u001b[0;31mKeyboardInterrupt\u001b[0m: "
     ]
    }
   ],
   "source": [
    "\n",
    "\n",
    "mi_regressor = TransformedTargetRegressor(\n",
    "    regressor=SVR(),\n",
    "    func=np.log1p,\n",
    "    inverse_func=np.expm1\n",
    ")\n",
    "\n",
    "fullPipeline = Pipeline(steps=[\n",
    "    ('preprocessor', ColumnPreprocessor),\n",
    "    ('transformed_regressor', mi_regressor)\n",
    "])\n",
    "\n",
    "param_grid = {\n",
    "    \"transformed_regressor__regressor__kernel\": ['rbf', 'linear', 'poly'],\n",
    "    \"transformed_regressor__regressor__C\": [0.0001, 0.001, 0.01],\n",
    "    \"transformed_regressor__regressor__gamma\": ['scale', 'auto'],\n",
    "    \"transformed_regressor__regressor__degree\": [3, 4],\n",
    "}\n",
    "\n",
    "search = GridSearchCV(\n",
    "    fullPipeline, \n",
    "    param_grid, \n",
    "    cv=repeated_kfold,\n",
    "    scoring=make_scorer(MAPE, greater_is_better=True),\n",
    "    n_jobs=-1,\n",
    ")\n",
    "\n",
    "search.fit(X_train, y_train)\n",
    "\n",
    "print(\"Best parameter (CV score=%0.3f):\" % search.best_score_)\n",
    "pprint(search.best_params_)"
   ]
  }
 ],
 "metadata": {
  "kernelspec": {
   "display_name": "Python 3.9.12 ('venv': venv)",
   "language": "python",
   "name": "python3"
  },
  "language_info": {
   "codemirror_mode": {
    "name": "ipython",
    "version": 3
   },
   "file_extension": ".py",
   "mimetype": "text/x-python",
   "name": "python",
   "nbconvert_exporter": "python",
   "pygments_lexer": "ipython3",
   "version": "3.9.12"
  },
  "orig_nbformat": 4,
  "vscode": {
   "interpreter": {
    "hash": "ec4ce40ca79572a60b681cbbcf0e5d4e3e33b93a9954288293cf2a461c2e7ab1"
   }
  }
 },
 "nbformat": 4,
 "nbformat_minor": 2
}
